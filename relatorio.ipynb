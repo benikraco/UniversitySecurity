{
 "cells": [
  {
   "cell_type": "code",
   "execution_count": 16,
   "metadata": {},
   "outputs": [],
   "source": [
    "import pandas as pd\n",
    "import matplotlib.pyplot as plt\n",
    "import http.client\n",
    "from urllib.parse import urlparse\n",
    "import re\n",
    "import subprocess\n",
    "import socket\n",
    "import os\n",
    "import sys\n",
    "import requests"
   ]
  },
  {
   "attachments": {},
   "cell_type": "markdown",
   "metadata": {},
   "source": [
    "O objetivo do meu trabalho é realizar testes e avaliar os níveis de segurança dos sites das universidades federais. Para isso, separei meu trabalho em quatro seções diferentes, analisando a presença de um certificado SSL, se possui servidor próprio ou terceiro (se sim, qual), se ele possui WAF ou não e o ISP dele. \n",
    "\n",
    "Possuir um certificado SSL significa que o site da universidade possui um certificado de segurança, que é um arquivo de dados que vincula uma chave criptográfica a informações de uma organização.\n",
    "\n",
    "Ter um servidor próprio significa que o site da universidade está hospedado em um servidor que pertence a ela, enquanto ter um servidor terceiro significa que o site está hospedado em um servidor que não pertence a universidade. Ter WAF significa que o site possui um firewall de aplicação web, que é um sistema de segurança que monitora, filtra e bloqueia o tráfego HTTP para e de um aplicativo da Web. E ISP é o provedor de serviços de internet, que é a empresa que fornece acesso à internet para a universidade.\n",
    "\n",
    "Embora os conceitos de ISP e servidor terceiro são muito parecidos, para este caso eu os separei em duas seções diferentes, pois o ISP é a empresa que fornece acesso à internet para a universidade, enquanto o servidor terceiro é a empresa que hospeda o site da universidade."
   ]
  },
  {
   "attachments": {},
   "cell_type": "markdown",
   "metadata": {},
   "source": [
    "### IP dos sites"
   ]
  },
  {
   "attachments": {},
   "cell_type": "markdown",
   "metadata": {},
   "source": [
    "Para verificar o IP dos sites, eu utilizei a biblioteca `socket` do Python para fazer uma requisição DNS para o site e verifiquei se o código de status da resposta é 0, o que significa que a requisição foi bem sucedida. Se a requisição não for bem sucedida, o código de status será diferente de 0 e o site não possui um IP válido.\n",
    "\n",
    "O IP não foi pedido, mas pode vir a ser um auxiliar importante no projeto."
   ]
  },
  {
   "cell_type": "code",
   "execution_count": 18,
   "metadata": {},
   "outputs": [],
   "source": [
    "import requests\n",
    "import socket\n",
    "from urllib.parse import urlparse\n",
    "\n",
    "# Abra o arquivo .txt e leia cada linha\n",
    "with open('universities.txt', 'r') as file:\n",
    "    sites = file.read().splitlines()\n",
    "\n",
    "ips = []\n",
    "\n",
    "# Abra (ou crie) um arquivo para armazenar os IPs\n",
    "with open('universities_ips.txt', 'w') as output:\n",
    "    # Para cada site na lista, obtenha o IP\n",
    "    for site in sites:\n",
    "        try:\n",
    "            # Extrai o nome do domínio\n",
    "            domain = urlparse(site).netloc\n",
    "            ip = socket.gethostbyname(domain)\n",
    "            ips.append(ip)\n",
    "            \n",
    "            # Escreve o nome da universidade e o IP no arquivo\n",
    "            output.write(f'{domain} - {ip}\\n')\n",
    "        except socket.gaierror:\n",
    "            continue"
   ]
  },
  {
   "attachments": {},
   "cell_type": "markdown",
   "metadata": {},
   "source": [
    "## Sites com SSL"
   ]
  },
  {
   "attachments": {},
   "cell_type": "markdown",
   "metadata": {},
   "source": [
    "O certificado SSL é um protocolo de segurança que cria uma ligação segura entre o servidor web e o navegador. Certificar-se de que um site tem um Certificado SSL válido é outra maneira de avaliar a segurança de um site. \n",
    "\n",
    "A presença de um Certificado SSL válido é um forte indicador da segurança de um site. Ele garante que a identidade do site é autêntica, protegendo os usuários contra ataques de \"man-in-the-middle\", onde os cibercriminosos podem interceptar e manipular os dados transmitidos.\n",
    "\n",
    "Para verificar se um site possui um Certificado SSL válido, eu utilizei a biblioteca `requests` do Python para fazer uma requisição GET para o site e verifiquei se o código de status da resposta é 200, o que significa que a requisição foi bem sucedida. Se a requisição não for bem sucedida, o código de status será diferente de 200 e o site não possui um Certificado SSL válido."
   ]
  },
  {
   "cell_type": "code",
   "execution_count": 13,
   "metadata": {},
   "outputs": [
    {
     "name": "stdout",
     "output_type": "stream",
     "text": [
      "Sites with SSL: 74\n",
      "Sites without SSL: 34\n"
     ]
    }
   ],
   "source": [
    "def verify_ssl(site):\n",
    "    try:\n",
    "        response = requests.get(site, timeout=5)\n",
    "        if response.url.startswith('https://'):\n",
    "            return True\n",
    "    except (requests.exceptions.SSLError, requests.exceptions.RequestException):\n",
    "        pass\n",
    "    return False\n",
    "\n",
    "# Abra o arquivo .txt e leia cada linha\n",
    "with open('universities.txt', 'r') as file:\n",
    "    sites = file.read().splitlines()\n",
    "\n",
    "ssl_count = 0\n",
    "non_ssl_count = 0\n",
    "\n",
    "sites_with_ssl = []\n",
    "\n",
    "# Para cada site na lista, obtenha o IP e verifique o certificado SSL\n",
    "for site in sites:\n",
    "    try:\n",
    "        # Extrai o nome do domínio\n",
    "        domain = urlparse(site).netloc\n",
    "        ip = socket.gethostbyname(domain)\n",
    "        \n",
    "        # Verifique o certificado SSL\n",
    "        if verify_ssl(site):\n",
    "            ssl_count += 1\n",
    "            sites_with_ssl.append(site)\n",
    "        else:\n",
    "            non_ssl_count += 1\n",
    "    except socket.gaierror:\n",
    "        continue\n",
    "\n",
    "print(f\"Sites with SSL: {ssl_count}\")\n",
    "print(f\"Sites without SSL: {non_ssl_count}\")\n",
    "\n",
    "# Salve os sites com SSL em um novo arquivo\n",
    "with open('universities_with_ssl.txt', 'w') as file:\n",
    "    for site in sites_with_ssl:\n",
    "        file.write(site + '\\n')\n"
   ]
  },
  {
   "attachments": {},
   "cell_type": "markdown",
   "metadata": {},
   "source": [
    "## Análise de servidores"
   ]
  },
  {
   "attachments": {},
   "cell_type": "markdown",
   "metadata": {},
   "source": [
    "O servidor é o computador que hospeda o site da universidade. Ele pode ser próprio ou terceiro. Ter um servidor próprio significa que o site da universidade está hospedado em um servidor que pertence a ela, enquanto ter um servidor terceiro significa que o site está hospedado em um servidor que não pertence a universidade. \n",
    "\n",
    "Para verificar se o site possui um servidor próprio ou terceiro, eu utilizei a biblioteca `requests` do Python para fazer uma requisição GET para o site e verifiquei se o código de status da resposta é 200, o que significa que a requisição foi bem sucedida. Se a requisição não for bem sucedida, o código de status será diferente de 200 e o site possui um servidor terceiro. "
   ]
  },
  {
   "cell_type": "code",
   "execution_count": 20,
   "metadata": {},
   "outputs": [],
   "source": [
    "def obter_informacoes_servidor(url):\n",
    "    url_parseada = urlparse(url)\n",
    "    try:\n",
    "        conexao = http.client.HTTPSConnection(url_parseada.netloc, timeout=5) if url_parseada.scheme == 'https' else http.client.HTTPConnection(url_parseada.netloc, timeout=5)\n",
    "        conexao.request(\"HEAD\", url_parseada.path)\n",
    "\n",
    "        resposta = conexao.getresponse()\n",
    "        servidor = resposta.getheader('Server')\n",
    "        localizacao = resposta.getheader('Location')\n",
    "\n",
    "    except (http.client.HTTPException, OSError):\n",
    "        return None, None\n",
    "\n",
    "    finally:\n",
    "        conexao.close()\n",
    "\n",
    "    return servidor, localizacao\n",
    "\n",
    "# Lendo a lista de URLs do arquivo\n",
    "with open('universities.txt', 'r') as arquivo:\n",
    "    urls = [url.strip() for url in arquivo]\n",
    "\n",
    "# Criando um arquivo de saída para as informações do servidor\n",
    "with open('info_servidores.txt', 'w') as saida:\n",
    "    for url in urls:\n",
    "        servidor, localizacao = obter_informacoes_servidor(url)\n",
    "\n",
    "        if servidor and localizacao:\n",
    "            info = f\"URL: {url}\\nServidor: {servidor}\\nLocalização: {localizacao}\\n\\n\"\n",
    "            saida.write(info)"
   ]
  },
  {
   "attachments": {},
   "cell_type": "markdown",
   "metadata": {},
   "source": [
    "Ainda nesta seção fiz um estudo com a quantidade de sites que estão hosted em cada tipo de servidor terceiro. Os servidores terceiros mais comuns são o Cloudflare, o Akamai-NGINX e o Amazon. "
   ]
  },
  {
   "cell_type": "code",
   "execution_count": 5,
   "metadata": {},
   "outputs": [
    {
     "data": {
      "image/png": "[encoded data removed]",
      "text/plain": [
       "<Figure size 432x288 with 1 Axes>"
      ]
     },
     "metadata": {
      "needs_background": "light"
     },
     "output_type": "display_data"
    }
   ],
   "source": [
    "# Carregue o arquivo em um DataFrame do pandas\n",
    "df = pd.read_csv('info_servidores.txt', sep=\"\\n\", header=None)\n",
    "\n",
    "# Filtrando as linhas que contêm a informação do servidor\n",
    "df = df[df[0].str.startswith('Servidor:')]\n",
    "\n",
    "# Extraindo o nome do servidor e contando as ocorrências\n",
    "df['Servidor'] = df[0].apply(lambda x: re.split(r'[/:]', x.replace('Servidor: ', ''))[0])\n",
    "contagem = df['Servidor'].value_counts()\n",
    "\n",
    "# Gerando o gráfico de barras\n",
    "contagem.plot(kind='bar')\n",
    "\n",
    "plt.title('Contagem de Servidores')\n",
    "plt.ylabel('Quantidade')\n",
    "\n",
    "plt.show()"
   ]
  },
  {
   "attachments": {},
   "cell_type": "markdown",
   "metadata": {},
   "source": [
    "## Presença de WAF nos sites de universidades federais"
   ]
  },
  {
   "cell_type": "code",
   "execution_count": 4,
   "metadata": {},
   "outputs": [
    {
     "data": {
      "image/png": "[encoded data removed]",
      "text/plain": [
       "<Figure size 432x288 with 1 Axes>"
      ]
     },
     "metadata": {},
     "output_type": "display_data"
    }
   ],
   "source": [
    "# Abra o arquivo .txt e leia cada linha\n",
    "with open('universities.txt', 'r') as file:\n",
    "    sites = file.read().splitlines()\n",
    "\n",
    "# Dicionário para armazenar os resultados\n",
    "results = {}\n",
    "\n",
    "# Para cada site na lista, checamos a presença de um WAF\n",
    "for site in sites:\n",
    "    result = subprocess.run(['wafw00f', site], capture_output=True, text=True)\n",
    "    if \"No WAF detected\" in result.stdout:\n",
    "        results[site] = 'No'\n",
    "    else:\n",
    "        results[site] = 'Yes'\n",
    "\n",
    "# Crie um gráfico de pizza com os resultados\n",
    "waf_counts = {'Yes': list(results.values()).count('Yes'), 'No': list(results.values()).count('No')}\n",
    "plt.pie(waf_counts.values(), labels=waf_counts.keys(), autopct='%1.1f%%')\n",
    "plt.title('Presença de WAF nos sites das universidades')\n",
    "plt.show()"
   ]
  },
  {
   "cell_type": "code",
   "execution_count": null,
   "metadata": {},
   "outputs": [],
   "source": []
  }
 ],
 "metadata": {
  "kernelspec": {
   "display_name": "Python 3",
   "language": "python",
   "name": "python3"
  },
  "language_info": {
   "codemirror_mode": {
    "name": "ipython",
    "version": 3
   },
   "file_extension": ".py",
   "mimetype": "text/x-python",
   "name": "python",
   "nbconvert_exporter": "python",
   "pygments_lexer": "ipython3",
   "version": "3.7.6"
  },
  "orig_nbformat": 4
 },
 "nbformat": 4,
 "nbformat_minor": 2
}
